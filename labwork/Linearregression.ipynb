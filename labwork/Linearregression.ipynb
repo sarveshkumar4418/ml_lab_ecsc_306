{
 "cells": [
  {
   "cell_type": "code",
   "execution_count": 10,
   "metadata": {},
   "outputs": [
    {
     "name": "stdout",
     "output_type": "stream",
     "text": [
      "h0 values: 0.5\n",
      "1.0\n",
      "Cost function: -inf\n",
      "After 500 epoch values:\n",
      "theta 1 :  1.04169\n",
      "theta 0 :  0.0339648\n"
     ]
    }
   ],
   "source": [
    "import tensorflow as tf\n",
    "import numpy as np\n",
    "rng = np.random\n",

    "import matplotlib.pyplot as plt\n",
"learning_rate = 0.0001\n",
"training_epochs = 1000\n",
"display_step = 50 \n",

"with tf.name_scope("Creation_of_array"):\n",
"x_array=np.asarray([2.0,9.4,3.32,0.88,-2.23,1.11,0.57,-2.25,-3.31,6.45])\n",
"y_array=np.asarray([1.22,0.34,-0.08,2.25,4.41,3.09,-6.66,-9.77,0.001,2.25])\n",
"x = tf.constant(x_array,dtype = tf.float32,name = "x_array")\n",
"y = tf.constant(y_array,dtype = tf.float32, name= "y_array")\n",
"with tf.name_scope("Calculating_y_mean"):\n",
" mean_y = tf.reduce_mean(y, name = "mean_y")\n",
"    with tf.Session() as sess:\n",
"        result_y = sess.run(mean_y)\n",
"        print(result_y)\n",



"with tf.name_scope("Calculating_x_mean_and_x_variance"):\n",
   " mean_x, variance = tf.nn.moments(x, [0], name = "mean_x_and_variance_x")\n",
  "  with tf.Session() as sess:\n",
   "     m, v = sess.run([mean_x, variance])\n",
    "    print(m)\n",
    "    print(v)\n",



"with tf.name_scope("Calculating_covariance"):\n",
   " def tensorflow_covariance(x_array,y_array,x_mean,y_mean):\n",
     "   cov = 0.0\n",
      "  for i in range(0,10):\n",
        "    x_val = tf.subtract(x_array[i],x_mean, name="Finding_difference_of_xval_and_mean")\n",
          "  y_val = tf.subtract(y_array[i],y_mean, name="Finding_difference_of_yval_and_mean")\n",
          "  total_val = tf.multiply(x_val,y_val, name="Multiplying_found_values")\n",
       "     cov = tf.add(cov,total_val, name="Recursive_addition")\n",
     "   return cov/10.0\n",
 "   with tf.Session() as sess:\n",
     "   covar = sess.run(tensorflow_covariance(x,y,m,result_y))\n",
     "   print(covar)\n",

"with tf.name_scope("Calculating_slope_m_and_c"):\n",
   " slope = tf.div(covar,v,name="Finding_slope")\n",
   " intm = tf.multiply(slope,m,name = "Intermediate_step")\n",
   " c_intm = tf.subtract(result_y,intm,name = "Finding_c")\n",

   " with tf.Session() as sess:\n",
    "   m_slope = sess.run(slope)\n",
    "    c = sess.run(c_intm)\n",
    "    print(m_slope)\n",
     "   print(c)\n",


"with tf.name_scope("Plotting"):\n",
  "  n_samples = x_array.shape[0]\n",
  "  X = tf.placeholder("float")\n",
   " Y = tf.placeholder("float")\n",


   " W = tf.Variable(rng.randn(), name="weight")\n",
   " b = tf.Variable(rng.randn(), name="bias")\n",

   " pred = tf.add(tf.multiply(X, W), b)\n",


   " cost = tf.reduce_sum(tf.pow(pred-Y, 2))/(2*n_samples)\n",

  "  optimizer = tf.train.GradientDescentOptimizer(learning_rate).minimize(cost)\n",

   " init = tf.global_variables_initializer()\n",

   
  "  with tf.Session() as sess:\n",
   "     sess.run(init)\n",

       
       " for epoch in range(training_epochs):\n",
          "  for (p, r) in zip(x_array, y_array):\n",
           "     sess.run(optimizer, feed_dict={X: p, Y: r})\n",

           
           " if (epoch+1) % display_step == 0:\n",
             "   c = sess.run(cost, feed_dict={X: x_array, Y:y_array})\n",
             "   print("Epoch:", '%04d' % (epoch+1), "cost=", "{:.9f}".format(c), \n",
              "      "W=", sess.run(W), "b=", sess.run(b))\n",

       " print("Optimization Finished!")\n",
       " training_cost = sess.run(cost, feed_dict={X: x_array, Y: y_array})\n",
       " print("Training cost=", training_cost, "W=", sess.run(W), "b=", sess.run(b), '\n')\n",

        # Graphic display
        "plt.plot(x_array, y_array, 'ro', label='Original data')\n",
        "plt.plot(x_array, sess.run(W) * x_array + sess.run(b), label='Fitted line')\n",
        "plt.legend()\n",
        "plt.show()\n",

"with tf.name_scope("Finding_root_mean_square_error"):\n",
   " rms = tf.sqrt(tf.reduce_mean(tf.squared_difference(x_array, y_array,name = "Finding_squared_difference"),name="Finding_mean"),name = "Finding_square_root")\n",
    "with tf.Session() as sess:\n",
        "rmse=sess.run(rms)\n",
        "print(rmse)\n",

"with tf.name_scope("Finding_theta_1"): \n",
  "  y_var = tf.subtract(y,result_y,name = "Subtract_y_array_with_y_mean")\n",
  "  x_var = tf.subtract(x,m,name = "Subtract_x_array_with_x_mean")\n",
  "  mult = tf.multiply(x_var,y_var,name = "Multiply_calculated_arrays")\n",
  "  sumn = tf.reduce_sum(mult,name = "Find_sum_of_x_i_minus_mean_x_and_y_i_minus_mean_y")\n",
  "  x_var2 = tf.multiply(x_var,x_var,name = "Squaring_found_arrray_values")\n",
  "  sumd = tf.reduce_sum(x_var2,name = "Find_sum_of_array_of_x_i_minus_mean_x")\n",
  "  val = sumn/sumd\n",

  "  with tf.Session() as sess:\n",
      "  res = sess.run(val)\n",
       " print(res)\n",
 

"with tf.name_scope("Finding_predictions"):\n",
  "  mx = tf.multiply(res,x,name = "Multiply_res_with_x_array")\n",
   " y_temp = tf.add(mx,theta0,name = "Add_m_multiplied_x_array_with_c")\n",
  "  with tf.Session() as sess:\n",
      "  y_new = sess.run(y_temp)\n",
        "print(y_new)\n",





"t_minus = tf.subtract(y_new,y,name = "Sub_new_preds_with_original_y")\n",
"t_squared = tf.multiply(t_minus,t_minus,name= "Square_obtained_res")\n",
"t_sum = tf.reduce_sum(t_squared,name="Find_array_sum")\n",
"j_theta = tf.div(t_sum,20,name="Divide_by_no_of_elements")\n",
"with tf.Session() as sess:\n",
   " print(sess.run(j_theta))\n",




"with tf.Session() as sess:\n",
   " writer = tf.summary.FileWriter("/tmp/tboard/output_regg2", sess.graph)\n",
    "print(sess.run(j_theta))\n",
    "writer.close()\n",




"with tf.name_scope("Finding_theta_0"):    \n",
    "temp = tf.multiply(res,m,name = "Multiply_res_with_slope")\n",
    "theta = tf.subtract(result_y,temp,name="Sub_obtained_res_with_mean_y")\n",
   " with tf.Session() as sess:\n",
        "theta0 = sess.run(theta)\n",
        "print(theta0)\n",
   ]
  },
  {
   "cell_type": "code",
   "execution_count": null,
   "metadata": {
    "collapsed": true
   },
   "outputs": [],
   "source": []
  }
 ],
 "metadata": {
  "kernelspec": {
   "display_name": "Python 3",
   "language": "python",
   "name": "python3"
  },
  "language_info": {
   "codemirror_mode": {
    "name": "ipython",
    "version": 3
   },
   "file_extension": ".py",
   "mimetype": "text/x-python",
   "name": "python",
   "nbconvert_exporter": "python",
   "pygments_lexer": "ipython3",
   "version": "3.6.1"
  }
 },
 "nbformat": 4,
 "nbformat_minor": 2
}
