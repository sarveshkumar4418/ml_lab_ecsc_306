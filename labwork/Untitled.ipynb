{
 "cells": [
  {
   "cell_type": "code",
   "execution_count": 1,
   "metadata": {},
   "outputs": [
    {
     "name": "stdout",
     "output_type": "stream",
     "text": [
      "Enter the value of a 5\n",
      "enter the value of b 8\n",
      "9\n"
     ]
    }
   ],
   "source": [
    "import tensorflow as tf\n",
    "tf.reset_default_graph()\n",
    "a=int(input('Enter the value of a '))\n",
    "b=int(input('enter the value of b '))\n",
    "with tf.name_scope(\"MyOperationGroup\"):\n",
    "    with tf.name_scope(\"Scope_A\"):\n",
    "        c=tf.multiply(a,a,name=\"Square_of_A\")\n",
    "    with tf.name_scope(\"Scope_B\"):\n",
    "        d=tf.multiply(b,b,name=\"Square_of_B\")\n",
    "    with tf.name_scope(\"Scope_C\"):\n",
    "        e=tf.multiply(a,b,name=\"Multiply_A_and_B\")\n",
    "        f=tf.multiply(2,e)\n",
    "    with tf.name_scope(\"Scope_D\"):\n",
    "        g=tf.add(c,d,name=\"Add_square_of_a_and_b\")\n",
    "        h=tf.subtract(g,f)\n",
    "\n",
    "with tf.Session() as sess:\n",
    "    writer = tf.summary.FileWriter(\"/tmp/tboard/output9\", sess.graph)\n",
    "    print(sess.run(h))\n",
    "    writer.close()\n",
    "\n"
   ]
  },
  {
   "cell_type": "code",
   "execution_count": 2,
   "metadata": {},
   "outputs": [
    {
     "name": "stdout",
     "output_type": "stream",
     "text": [
      "[ 2.  4.  6.]\n"
     ]
    }
   ],
   "source": [
    "import tensorflow as tf\n",
    "\n",
    "x = tf.placeholder(\"float\", None)\n",
    "y = x * 2\n",
    "\n",
    "with tf.Session() as session:\n",
    "    result = session.run(y, feed_dict={x: [1, 2, 3]})\n",
    "    print(result)"
   ]
  },
  {
   "cell_type": "code",
   "execution_count": 4,
   "metadata": {},
   "outputs": [
    {
     "name": "stdout",
     "output_type": "stream",
     "text": [
      "[4, 5, 6, 7, 3, 8]\n"
     ]
    }
   ],
   "source": [
    "import tensorflow as tf\n",
    "list1=[4,5,6,7,3,8]\n",
    "list2=[7,4,6,1,8,9]\n",
    "print (list1)"
   ]
  },
  {
   "cell_type": "code",
   "execution_count": null,
   "metadata": {
    "collapsed": true
   },
   "outputs": [],
   "source": []
  },
  {
   "cell_type": "code",
   "execution_count": 19,
   "metadata": {},
   "outputs": [
    {
     "name": "stdout",
     "output_type": "stream",
     "text": [
      "8\n"
     ]
    }
   ],
   "source": [
    "import tensorflow as tf\n",
    "tf.reset_default_graph()\n",
    "list1=[4,5,6,7,3,8]\n",
    "list2=[7,4,6,1,8,9]\n",
    "with tf.name_scope(\"MyOperationGroup\"):\n",
    "       with tf.name_scope(\"Scope_A\"): \n",
    "            i=0\n",
    "            for i in range(len(list1)):\n",
    "                c=tf.add(list1[i],0,name=\"adding\")\n",
    "                i=i+1\n",
    "with tf.Session() as sess:\n",
    "    writer = tf.summary.FileWriter(\"/tmp/tboard/output9\", sess.graph)\n",
    "    print(sess.run(c))\n",
    "    writer.close()\n"
   ]
  },
  {
   "cell_type": "code",
   "execution_count": null,
   "metadata": {
    "collapsed": true
   },
   "outputs": [],
   "source": []
  }
 ],
 "metadata": {
  "kernelspec": {
   "display_name": "Python 3",
   "language": "python",
   "name": "python3"
  },
  "language_info": {
   "codemirror_mode": {
    "name": "ipython",
    "version": 3
   },
   "file_extension": ".py",
   "mimetype": "text/x-python",
   "name": "python",
   "nbconvert_exporter": "python",
   "pygments_lexer": "ipython3",
   "version": "3.6.1"
  }
 },
 "nbformat": 4,
 "nbformat_minor": 2
}
